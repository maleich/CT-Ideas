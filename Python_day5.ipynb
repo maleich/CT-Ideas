{
  "nbformat": 4,
  "nbformat_minor": 0,
  "metadata": {
    "colab": {
      "name": "Python_day5.ipynb",
      "provenance": [],
      "collapsed_sections": [],
      "include_colab_link": true
    },
    "kernelspec": {
      "name": "python3",
      "display_name": "Python 3"
    }
  },
  "cells": [
    {
      "cell_type": "markdown",
      "metadata": {
        "id": "view-in-github",
        "colab_type": "text"
      },
      "source": [
        "<a href=\"https://colab.research.google.com/github/maleich/CT-Ideas/blob/master/Python_day5.ipynb\" target=\"_parent\"><img src=\"https://colab.research.google.com/assets/colab-badge.svg\" alt=\"Open In Colab\"/></a>"
      ]
    },
    {
      "cell_type": "markdown",
      "metadata": {
        "id": "DjJdiYKoQ3oJ",
        "colab_type": "text"
      },
      "source": [
        "# For Loops"
      ]
    },
    {
      "cell_type": "code",
      "metadata": {
        "id": "4Juv0nOgK7Js",
        "colab_type": "code",
        "outputId": "090d5c6e-d2ce-404f-fa82-cb5e31bc33df",
        "colab": {
          "base_uri": "https://localhost:8080/",
          "height": 85
        }
      },
      "source": [
        "for x in range(4):\n",
        "  print (\"hi\")"
      ],
      "execution_count": 0,
      "outputs": [
        {
          "output_type": "stream",
          "text": [
            "hi\n",
            "hi\n",
            "hi\n",
            "hi\n"
          ],
          "name": "stdout"
        }
      ]
    },
    {
      "cell_type": "markdown",
      "metadata": {
        "id": "9dkbGDBVRvGX",
        "colab_type": "text"
      },
      "source": [
        ""
      ]
    },
    {
      "cell_type": "code",
      "metadata": {
        "id": "82cy-Hi6Rx4R",
        "colab_type": "code",
        "outputId": "96a0d465-7cfa-442d-9c20-c06d69bee377",
        "colab": {
          "base_uri": "https://localhost:8080/",
          "height": 102
        }
      },
      "source": [
        "# Prints out the numbers 0,1,2,3,4\n",
        "for x in range(5):\n",
        "    print(x)"
      ],
      "execution_count": 0,
      "outputs": [
        {
          "output_type": "stream",
          "text": [
            "0\n",
            "1\n",
            "2\n",
            "3\n",
            "4\n"
          ],
          "name": "stdout"
        }
      ]
    },
    {
      "cell_type": "code",
      "metadata": {
        "id": "rdPtFbXoR1Bu",
        "colab_type": "code",
        "outputId": "7b9e9ab1-6a85-4873-8c07-b962be7754e4",
        "colab": {
          "base_uri": "https://localhost:8080/",
          "height": 68
        }
      },
      "source": [
        "# Prints out 3,4,5\n",
        "for x in range(3, 6):\n",
        "    print(x)"
      ],
      "execution_count": 0,
      "outputs": [
        {
          "output_type": "stream",
          "text": [
            "3\n",
            "4\n",
            "5\n"
          ],
          "name": "stdout"
        }
      ]
    },
    {
      "cell_type": "code",
      "metadata": {
        "id": "9rRAf8ZXR28v",
        "colab_type": "code",
        "outputId": "1781cf1c-d4ec-4256-94b6-a57ea5c40cf8",
        "colab": {
          "base_uri": "https://localhost:8080/",
          "height": 68
        }
      },
      "source": [
        "# Prints out 3,5,7\n",
        "for x in range(3, 8, 2):\n",
        "    print(x)"
      ],
      "execution_count": 0,
      "outputs": [
        {
          "output_type": "stream",
          "text": [
            "3\n",
            "5\n",
            "7\n"
          ],
          "name": "stdout"
        }
      ]
    },
    {
      "cell_type": "markdown",
      "metadata": {
        "id": "FluGo6lATqQt",
        "colab_type": "text"
      },
      "source": [
        "# While loops"
      ]
    },
    {
      "cell_type": "code",
      "metadata": {
        "id": "rDP4YYaaTa8m",
        "colab_type": "code",
        "outputId": "f5ddedb0-5958-4b76-8af3-7b5ed2721950",
        "colab": {
          "base_uri": "https://localhost:8080/",
          "height": 119
        }
      },
      "source": [
        "# Prints out 0,1,2,3,4 and then it prints \"count value reached 5\"\n",
        "\n",
        "count=0\n",
        "while(count<5):\n",
        "    print(count)\n",
        "    count +=1\n",
        "else:\n",
        "    print(\"count value reached %d\" %(count))\n"
      ],
      "execution_count": 0,
      "outputs": [
        {
          "output_type": "stream",
          "text": [
            "0\n",
            "1\n",
            "2\n",
            "3\n",
            "4\n",
            "count value reached 5\n"
          ],
          "name": "stdout"
        }
      ]
    },
    {
      "cell_type": "markdown",
      "metadata": {
        "id": "WaEKstN2T89w",
        "colab_type": "text"
      },
      "source": [
        "#Break\n",
        "* Break exits the loop\n"
      ]
    },
    {
      "cell_type": "code",
      "metadata": {
        "id": "gDYn_v4aTlK1",
        "colab_type": "code",
        "outputId": "8eaceeb2-320a-4476-c9d2-f699b6033356",
        "colab": {
          "base_uri": "https://localhost:8080/",
          "height": 85
        }
      },
      "source": [
        "# Prints out 1,2,3,4\n",
        "for i in range(1, 10):\n",
        "    if(i%5==0):\n",
        "        break\n",
        "    print(i)\n",
        "else:\n",
        "    print(\"this is not printed because for loop is terminated because of break but not due to fail in condition\")"
      ],
      "execution_count": 0,
      "outputs": [
        {
          "output_type": "stream",
          "text": [
            "1\n",
            "2\n",
            "3\n",
            "4\n"
          ],
          "name": "stdout"
        }
      ]
    },
    {
      "cell_type": "markdown",
      "metadata": {
        "id": "VVelT01-ULQj",
        "colab_type": "text"
      },
      "source": [
        "# Continue\n",
        "* continue skips the current block and returns to the \"for\" or \"while\" statement"
      ]
    },
    {
      "cell_type": "code",
      "metadata": {
        "id": "vLREfwS7VW92",
        "colab_type": "code",
        "colab": {}
      },
      "source": [
        ""
      ],
      "execution_count": 0,
      "outputs": []
    },
    {
      "cell_type": "code",
      "metadata": {
        "id": "-HLtjxB4SzjQ",
        "colab_type": "code",
        "outputId": "06315c67-937f-4e0d-fd53-3e3d481420ff",
        "colab": {
          "base_uri": "https://localhost:8080/",
          "height": 391
        }
      },
      "source": [
        "numbers = [\n",
        "    951, 402, 984, 651, 360, 69, 408, 319, 601, 485, 980, 507, 725, 547, 544,\n",
        "    615, 83, 165, 141, 501, 263, 617, 865, 575, 219, 390, 984, 592, 236, 105, 942, 941,\n",
        "    386, 462, 47, 418, 907, 344, 236, 375, 823, 566, 597, 978, 328, 615, 953, 345,\n",
        "    399, 162, 758, 219, 918, 237, 412, 566, 826, 248, 866, 950, 626, 949, 687, 217,\n",
        "    815, 67, 104, 58, 512, 24, 892, 894, 767, 553, 81, 379, 843, 831, 445, 742, 717,\n",
        "    958, 609, 842, 451, 688, 753, 854, 685, 93, 857, 440, 380, 126, 721, 328, 753, 470,\n",
        "    743, 527\n",
        "]\n",
        "\n",
        "# your code goes here\n",
        "for number in numbers:\n",
        "    if number == 237:\n",
        "        break\n",
        "\n",
        "    if number % 2 == 1:\n",
        "        continue\n",
        "\n",
        "    print(number)"
      ],
      "execution_count": 0,
      "outputs": [
        {
          "output_type": "stream",
          "text": [
            "402\n",
            "984\n",
            "360\n",
            "408\n",
            "980\n",
            "544\n",
            "390\n",
            "984\n",
            "592\n",
            "236\n",
            "942\n",
            "386\n",
            "462\n",
            "418\n",
            "344\n",
            "236\n",
            "566\n",
            "978\n",
            "328\n",
            "162\n",
            "758\n",
            "918\n"
          ],
          "name": "stdout"
        }
      ]
    },
    {
      "cell_type": "markdown",
      "metadata": {
        "id": "I2-NjoSIWgfK",
        "colab_type": "text"
      },
      "source": [
        "\n",
        "**Do you like Python?**\n"
      ]
    },
    {
      "cell_type": "code",
      "metadata": {
        "id": "h2pIDS3N5dgo",
        "colab_type": "code",
        "outputId": "0b194b49-935c-4bf7-93e9-39b2480b159c",
        "colab": {
          "base_uri": "https://localhost:8080/",
          "height": 85
        }
      },
      "source": [
        "answer = input(\"Do you like Python? \")\n",
        "while answer != \"yes\":\n",
        "  print (\"That is not the right answer! Try again.\")\n",
        "  answer = input(\"Do you like Python? \")\n",
        "else:\n",
        "  print (\"That is great!\")"
      ],
      "execution_count": 0,
      "outputs": [
        {
          "output_type": "stream",
          "text": [
            "Do you like Python? no\n",
            "That is not the right answer! Try again.\n",
            "Do you like Python? yes\n",
            "That is great!\n"
          ],
          "name": "stdout"
        }
      ]
    },
    {
      "cell_type": "markdown",
      "metadata": {
        "id": "LYt8y-syacFi",
        "colab_type": "text"
      },
      "source": [
        "**Write a while loop that terminates after counting up to a certain value.**"
      ]
    },
    {
      "cell_type": "markdown",
      "metadata": {
        "id": "Htbyp5wJ675C",
        "colab_type": "text"
      },
      "source": [
        "**Write a program that asks five times to guess the lucky number.** Use a while loop and a counter, such as\n",
        "\n",
        "* counter = 1\n",
        "* while counter <= 5:\n",
        "*     print \"Type in the\", counter, \"number\"\n",
        "*    counter = counter +1\n",
        "        \n",
        "The program asks for five guesses (no matter whether the correct number was guessed or not). If the correct number is guessed, the program outputs \"Good guess!\", otherwise it outputs \"Try again!\". After the fifth guess it stops and prints \"Game over.\""
      ]
    },
    {
      "cell_type": "code",
      "metadata": {
        "id": "Lk2YSVBj8A-k",
        "colab_type": "code",
        "outputId": "73e344c6-7318-407e-f6c4-f49505b3ffd4",
        "colab": {
          "base_uri": "https://localhost:8080/",
          "height": 306
        }
      },
      "source": [
        "import random\n",
        "guesses = 0\n",
        "\n",
        "number = random.randint(1, 10)\n",
        "print(\"Please guess a number: \")\n",
        "while guesses < 5:\n",
        "    print(\"Take a guess. \")\n",
        "    guess = int(input())\n",
        "    guesses +=1\n",
        "    if guess < number:\n",
        "        print('Your guess is too low.')\n",
        "    if guess > number:\n",
        "        print('Your guess is too high.')\n",
        "    if guess == number:\n",
        "        print(\"You guessed it!\")\n",
        "else:\n",
        "    print(\"Sorry, the number is \" + str(number))          \n",
        "\n"
      ],
      "execution_count": 0,
      "outputs": [
        {
          "output_type": "stream",
          "text": [
            "Please guess a number: \n",
            "Take a guess. \n",
            "1\n",
            "Your guess is too low.\n",
            "Take a guess. \n",
            "1\n",
            "Your guess is too low.\n",
            "Take a guess. \n",
            "1\n",
            "Your guess is too low.\n",
            "Take a guess. \n",
            "1\n",
            "Your guess is too low.\n",
            "Take a guess. \n",
            "1\n",
            "Your guess is too low.\n",
            "Sorry, the number is 5\n"
          ],
          "name": "stdout"
        }
      ]
    },
    {
      "cell_type": "markdown",
      "metadata": {
        "id": "QxBGoItE8BRW",
        "colab_type": "text"
      },
      "source": [
        "In the previous example, insert \"break\" after the \"Good guess!\" print statement. \"break\" will terminate the while loop so that users do not have to continue guessing after they found the number. If the user does not guess the number at all print \"Sorry but that was not very successful\" (use \"else\" for this)."
      ]
    },
    {
      "cell_type": "code",
      "metadata": {
        "id": "n6b746U_8A6a",
        "colab_type": "code",
        "outputId": "3830c575-c087-47b4-adc0-b0c8f5eab3f2",
        "colab": {
          "base_uri": "https://localhost:8080/",
          "height": 187
        }
      },
      "source": [
        "import random\n",
        "guesses = 0\n",
        "\n",
        "number = random.randint(1, 10)\n",
        "print(\"Please guess a number: \")\n",
        "while guesses < 5:\n",
        "    print(\"Take a guess. \")\n",
        "    guess = int(input())\n",
        "    guesses +=1\n",
        "    if guess < number:\n",
        "        print('Your guess is too low.')\n",
        "    if guess > number:\n",
        "        print('Your guess is too high.')\n",
        "    if guess == number:\n",
        "        print(\"You guessed it!\")\n",
        "        break\n",
        "else:\n",
        "    print(\"Sorry, the number is \" + str(number))    "
      ],
      "execution_count": 0,
      "outputs": [
        {
          "output_type": "stream",
          "text": [
            "Please guess a number: \n",
            "Take a guess. \n",
            "6\n",
            "Your guess is too low.\n",
            "Take a guess. \n",
            "8\n",
            "Your guess is too high.\n",
            "Take a guess. \n",
            "7\n",
            "You guessed it!\n"
          ],
          "name": "stdout"
        }
      ]
    },
    {
      "cell_type": "markdown",
      "metadata": {
        "id": "D6KFGiJ78C2e",
        "colab_type": "text"
      },
      "source": [
        "**(Not for F2019)**\n",
        "Counting hits: Modify the program again. This time the program continues even after the correct number was guessed but it counts how often the correct number was guessed. You'll need two counters: one for the while loop and another one for the number of correct guesses. After the while loop is finished, use an if statement to print either \"You guessed the number ... times\" or \"The number was not guessed at all\".\n",
        "* Note: This strategy is used in search engines: search engines display each match but keep searching until they are through with the document collection."
      ]
    },
    {
      "cell_type": "code",
      "metadata": {
        "id": "_bPGAOr87xip",
        "colab_type": "code",
        "colab": {}
      },
      "source": [
        ""
      ],
      "execution_count": 0,
      "outputs": []
    }
  ]
}